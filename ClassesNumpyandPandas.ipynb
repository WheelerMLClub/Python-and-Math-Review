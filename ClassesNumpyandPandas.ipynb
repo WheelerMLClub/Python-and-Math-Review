{
  "nbformat": 4,
  "nbformat_minor": 0,
  "metadata": {
    "colab": {
      "name": "BasicPython",
      "provenance": [],
      "authorship_tag": "ABX9TyPEgshDkxfFPbbbAzJ998PH",
      "include_colab_link": true
    },
    "kernelspec": {
      "name": "python3",
      "display_name": "Python 3"
    }
  },
  "cells": [
    {
      "cell_type": "markdown",
      "metadata": {
        "id": "view-in-github",
        "colab_type": "text"
      },
      "source": [
        "<a href=\"https://colab.research.google.com/github/WheelerMLClub/Python-and-Math-Review/blob/master/ClassesNumpyandPandas.ipynb\" target=\"_parent\"><img src=\"https://colab.research.google.com/assets/colab-badge.svg\" alt=\"Open In Colab\"/></a>"
      ]
    },
    {
      "cell_type": "markdown",
      "metadata": {
        "id": "E_DDDOWEc5qF",
        "colab_type": "text"
      },
      "source": [
        "# Python Review and Fortification"
      ]
    },
    {
      "cell_type": "markdown",
      "metadata": {
        "id": "S5qobt8fdOY0",
        "colab_type": "text"
      },
      "source": [
        "##Classes"
      ]
    },
    {
      "cell_type": "code",
      "metadata": {
        "id": "GlHC67T-gyBh",
        "colab_type": "code",
        "colab": {}
      },
      "source": [
        "class Car():\n",
        "  def __init__(self,wheels):\n",
        "    self.wheels = wheelers\n",
        "  def drive(self):\n",
        "    if self.wheels <= 0:\n",
        "      return False\n",
        "    else:\n",
        "      return True"
      ],
      "execution_count": 1,
      "outputs": []
    },
    {
      "cell_type": "markdown",
      "metadata": {
        "id": "OFXa73OHdclH",
        "colab_type": "text"
      },
      "source": [
        "Inheritance"
      ]
    },
    {
      "cell_type": "code",
      "metadata": {
        "id": "tbPrZiekg0dQ",
        "colab_type": "code",
        "colab": {}
      },
      "source": [
        "class FormulaOneCar(Car):\n",
        "  def __init__(self,wheels,color):\n",
        "    super().__init__(wheels)\n",
        "    self.color = color\n",
        "  def drive(self):\n",
        "    if self.wheels <= 4:\n",
        "      return False\n",
        "    else:\n",
        "      return True"
      ],
      "execution_count": 2,
      "outputs": []
    },
    {
      "cell_type": "markdown",
      "metadata": {
        "id": "IJ182uBSesnZ",
        "colab_type": "text"
      },
      "source": [
        "Lets try a practice problem:"
      ]
    },
    {
      "cell_type": "code",
      "metadata": {
        "id": "YdqEECreg1oA",
        "colab_type": "code",
        "colab": {}
      },
      "source": [
        "#Write me a class called Bottle which has a material and volume. Give the bottle a drink function. Then write a class called metal bottle that sets that material to steel."
      ],
      "execution_count": 3,
      "outputs": []
    },
    {
      "cell_type": "code",
      "metadata": {
        "id": "dHjaLmkKv-eh",
        "colab_type": "code",
        "colab": {}
      },
      "source": [
        ""
      ],
      "execution_count": 3,
      "outputs": []
    },
    {
      "cell_type": "markdown",
      "metadata": {
        "id": "IQuXWa44fGY7",
        "colab_type": "text"
      },
      "source": [
        "#Using Pandas"
      ]
    },
    {
      "cell_type": "code",
      "metadata": {
        "id": "ynnRoWgbfD6l",
        "colab_type": "code",
        "colab": {}
      },
      "source": [
        "import pandas as pd"
      ],
      "execution_count": 4,
      "outputs": []
    },
    {
      "cell_type": "markdown",
      "metadata": {
        "id": "dAZctYpifz_a",
        "colab_type": "text"
      },
      "source": [
        "##Read data"
      ]
    },
    {
      "cell_type": "code",
      "metadata": {
        "id": "3sEDj_MgfVEf",
        "colab_type": "code",
        "colab": {
          "base_uri": "https://localhost:8080/",
          "height": 156
        },
        "outputId": "67e76869-ff6b-4985-f91e-59a9660825ad"
      },
      "source": [
        "data = pd.read_csv(\"/content/sample_data/california_housing_train.csv\")\n",
        "print(data.head())"
      ],
      "execution_count": 8,
      "outputs": [
        {
          "output_type": "stream",
          "text": [
            "   longitude  latitude  ...  median_income  median_house_value\n",
            "0    -114.31     34.19  ...         1.4936             66900.0\n",
            "1    -114.47     34.40  ...         1.8200             80100.0\n",
            "2    -114.56     33.69  ...         1.6509             85700.0\n",
            "3    -114.57     33.64  ...         3.1917             73400.0\n",
            "4    -114.57     33.57  ...         1.9250             65500.0\n",
            "\n",
            "[5 rows x 9 columns]\n"
          ],
          "name": "stdout"
        }
      ]
    },
    {
      "cell_type": "markdown",
      "metadata": {
        "id": "o3ScOclAgQCt",
        "colab_type": "text"
      },
      "source": [
        "##Grabbing Specific Peices of Data"
      ]
    },
    {
      "cell_type": "code",
      "metadata": {
        "id": "g2vY19xigdM1",
        "colab_type": "code",
        "colab": {
          "base_uri": "https://localhost:8080/",
          "height": 121
        },
        "outputId": "65dc83b6-cb8e-4282-feba-599bf0dae0ed"
      },
      "source": [
        "data[\"longitude\"][0:5]"
      ],
      "execution_count": 18,
      "outputs": [
        {
          "output_type": "execute_result",
          "data": {
            "text/plain": [
              "0   -114.31\n",
              "1   -114.47\n",
              "2   -114.56\n",
              "3   -114.57\n",
              "4   -114.57\n",
              "Name: longitude, dtype: float64"
            ]
          },
          "metadata": {
            "tags": []
          },
          "execution_count": 18
        }
      ]
    },
    {
      "cell_type": "code",
      "metadata": {
        "id": "v9xV0zu8ffVF",
        "colab_type": "code",
        "colab": {
          "base_uri": "https://localhost:8080/",
          "height": 191
        },
        "outputId": "2bff0c74-2326-4f33-ca5d-4a7b725787a5"
      },
      "source": [
        "data.iloc[0,:]"
      ],
      "execution_count": 11,
      "outputs": [
        {
          "output_type": "execute_result",
          "data": {
            "text/plain": [
              "longitude              -114.3100\n",
              "latitude                 34.1900\n",
              "housing_median_age       15.0000\n",
              "total_rooms            5612.0000\n",
              "total_bedrooms         1283.0000\n",
              "population             1015.0000\n",
              "households              472.0000\n",
              "median_income             1.4936\n",
              "median_house_value    66900.0000\n",
              "Name: 0, dtype: float64"
            ]
          },
          "metadata": {
            "tags": []
          },
          "execution_count": 11
        }
      ]
    },
    {
      "cell_type": "code",
      "metadata": {
        "id": "fOdMJYkNgV_u",
        "colab_type": "code",
        "colab": {
          "base_uri": "https://localhost:8080/",
          "height": 208
        },
        "outputId": "7ab23462-772e-4c39-d332-2f8ab072c055"
      },
      "source": [
        "data.iloc[:10,1]"
      ],
      "execution_count": 19,
      "outputs": [
        {
          "output_type": "execute_result",
          "data": {
            "text/plain": [
              "0    34.19\n",
              "1    34.40\n",
              "2    33.69\n",
              "3    33.64\n",
              "4    33.57\n",
              "5    33.63\n",
              "6    33.61\n",
              "7    34.83\n",
              "8    33.61\n",
              "9    34.83\n",
              "Name: latitude, dtype: float64"
            ]
          },
          "metadata": {
            "tags": []
          },
          "execution_count": 19
        }
      ]
    },
    {
      "cell_type": "markdown",
      "metadata": {
        "id": "Xct53_f0hBFY",
        "colab_type": "text"
      },
      "source": [
        "##Saving Data"
      ]
    },
    {
      "cell_type": "code",
      "metadata": {
        "id": "KL_WY-gChDxs",
        "colab_type": "code",
        "colab": {}
      },
      "source": [
        "data.iloc[:10,1].to_csv(\"Split_of_data\")"
      ],
      "execution_count": 23,
      "outputs": []
    },
    {
      "cell_type": "markdown",
      "metadata": {
        "id": "32Aj-1LahfT3",
        "colab_type": "text"
      },
      "source": [
        "#Numpy"
      ]
    },
    {
      "cell_type": "code",
      "metadata": {
        "id": "oJFFj-9dhJ7N",
        "colab_type": "code",
        "colab": {}
      },
      "source": [
        ""
      ],
      "execution_count": null,
      "outputs": []
    }
  ]
}